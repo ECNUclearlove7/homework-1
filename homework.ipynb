{
 "cells": [
  {
   "cell_type": "markdown",
   "metadata": {},
   "source": [
    "Python练习\n",
    "遍历练习：写一个Python程序，输出1-100中所有奇数，并求这些50以内奇数的乘积。"
   ]
  },
  {
   "cell_type": "code",
   "execution_count": 5,
   "metadata": {},
   "outputs": [
    {
     "name": "stdout",
     "output_type": "stream",
     "text": [
      "1 3 5 7 9 11 13 15 17 19 21 23 25 27 29 31 33 35 37 39 41 43 45 47 49 51 53 55 57 59 61 63 65 67 69 71 73 75 77 79 81 83 85 87 89 91 93 95 97 99 \n",
      "\n",
      "50以内奇数乘积为： 58435841445947272053455474390625\n"
     ]
    }
   ],
   "source": [
    "C = 1\n",
    "for i in range(1,100):\n",
    "    if i % 2 == 1 :\n",
    "        print(i,end = \" \")\n",
    "        if i <=50 :\n",
    "            C = C * i\n",
    "print(\"\\n\")\n",
    "print(\"50以内奇数乘积为：\",C)\n",
    "    \n"
   ]
  },
  {
   "cell_type": "markdown",
   "metadata": {},
   "source": [
    "循环练习：写一个Python程序，实现分别用for和while循环、数组切片实现对一个给定列表的倒排序输出。\n",
    "​ 给定列表：l = [1,2,3,4,5]"
   ]
  },
  {
   "cell_type": "code",
   "execution_count": 23,
   "metadata": {},
   "outputs": [
    {
     "name": "stdout",
     "output_type": "stream",
     "text": [
      "[5, 4, 3, 2, 1]\n"
     ]
    }
   ],
   "source": [
    "l = [1,2,3,4,5]\n",
    "L = [0 for i in range(len(l))]\n",
    "for i in range(len(l)-1,-1,-1):\n",
    "    L[len(l)- 1 - i] = l[i]\n",
    "print(L)\n"
   ]
  },
  {
   "cell_type": "code",
   "execution_count": 25,
   "metadata": {},
   "outputs": [
    {
     "name": "stdout",
     "output_type": "stream",
     "text": [
      "[5, 4, 3, 2, 1]\n"
     ]
    }
   ],
   "source": [
    "l = [1,2,3,4,5]\n",
    "i = len(l) - 1\n",
    "L = [0 for i in range(i+1)]\n",
    "while i >= 0 :\n",
    "    L[len(l) - 1 - i] = l[i]\n",
    "    i = i - 1\n",
    "print(L)\n"
   ]
  },
  {
   "cell_type": "code",
   "execution_count": 26,
   "metadata": {},
   "outputs": [
    {
     "name": "stdout",
     "output_type": "stream",
     "text": [
      "[5, 4, 3, 2, 1]\n"
     ]
    }
   ],
   "source": [
    "l = [1,2,3,4,5]\n",
    "print(l[::-1])"
   ]
  },
  {
   "cell_type": "markdown",
   "metadata": {},
   "source": [
    "字符串练习：写一个Python程序，判断一个输入的字符串s，是否包含两个或两个以上连续出现的相同字符组成的字符串，并输出最长连续出现的字符长度。\n",
    "​ 例如：abccccda中包含cccc这个由四个连续字符c组成的字符串。"
   ]
  },
  {
   "cell_type": "code",
   "execution_count": 4,
   "metadata": {},
   "outputs": [
    {
     "name": "stdout",
     "output_type": "stream",
     "text": [
      "4\n"
     ]
    }
   ],
   "source": [
    "def Fin(str):\n",
    "    num = 1\n",
    "    for i in range(len(str)):\n",
    "        if str[i-1] == str[i]:\n",
    "            num1 = 0\n",
    "            s = str[i-1]\n",
    "            j = i-1\n",
    "            while str[j] == s:\n",
    "                num1 += 1\n",
    "                j += 1\n",
    "            if num1 > num:\n",
    "                num = num1\n",
    "    print(num)\n",
    "\n",
    "\n",
    "str1 = \"abccccda\"\n",
    "Fin(str1)\n",
    "\n"
   ]
  },
  {
   "cell_type": "markdown",
   "metadata": {},
   "source": [
    "字符串练习2: 写一个Pyhon程序，输入一个字符串S，去掉其中所有空格后输出。\n",
    "​ 例如：\"Data Science and Engineering\",去掉空格后为\"DataScienceandEngineering\""
   ]
  },
  {
   "cell_type": "code",
   "execution_count": 1,
   "metadata": {},
   "outputs": [
    {
     "name": "stdout",
     "output_type": "stream",
     "text": [
      "DataScienceandEngineering\n"
     ]
    }
   ],
   "source": [
    "str = \"Data Science and Engineering\"\n",
    "str1 = str.split()\n",
    "print (''.join(str1))\n"
   ]
  },
  {
   "cell_type": "markdown",
   "metadata": {},
   "source": [
    "蒙特卡罗求积分\n",
    "​ 根据蒙特卡罗思想，用Python编写程序计算区间[0,1]上定积分：$\\int(x^3+x^2)dx$"
   ]
  },
  {
   "cell_type": "code",
   "execution_count": null,
   "metadata": {},
   "outputs": [],
   "source": []
  },
  {
   "cell_type": "markdown",
   "metadata": {},
   "source": [
    "结合本周理论课所学内容，使用三种方法求$\\sqrt{2}$的近似值"
   ]
  },
  {
   "cell_type": "code",
   "execution_count": null,
   "metadata": {},
   "outputs": [],
   "source": []
  },
  {
   "cell_type": "markdown",
   "metadata": {},
   "source": [
    "（选做）至少使用三种方法求解$\\pi$的值，并比较他们的效率（精度保留在小数点后10位）\n",
    "\n",
    "提示：可以通过多种级数解析式来计算"
   ]
  },
  {
   "cell_type": "code",
   "execution_count": null,
   "metadata": {},
   "outputs": [],
   "source": []
  }
 ],
 "metadata": {
  "kernelspec": {
   "display_name": "Python 3.10.6 64-bit",
   "language": "python",
   "name": "python3"
  },
  "language_info": {
   "codemirror_mode": {
    "name": "ipython",
    "version": 3
   },
   "file_extension": ".py",
   "mimetype": "text/x-python",
   "name": "python",
   "nbconvert_exporter": "python",
   "pygments_lexer": "ipython3",
   "version": "3.10.6"
  },
  "orig_nbformat": 4,
  "vscode": {
   "interpreter": {
    "hash": "3196968d684371006099b3d55edeef8ed90365227a30deaef86e5d4aa8519be0"
   }
  }
 },
 "nbformat": 4,
 "nbformat_minor": 2
}
